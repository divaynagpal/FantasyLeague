{
 "cells": [
  {
   "cell_type": "code",
   "execution_count": 189,
   "id": "71e1e740",
   "metadata": {},
   "outputs": [],
   "source": [
    "import os\n",
    "import json\n",
    "import glob\n",
    "import pandas as pd\n",
    "import polars as pl"
   ]
  },
  {
   "cell_type": "code",
   "execution_count": 197,
   "id": "93069617",
   "metadata": {},
   "outputs": [],
   "source": [
    "def get_json_files(input_folder):\n",
    "    \"\"\"\n",
    "    Returns a list of paths to all JSON files in the specified folder.\n",
    "    \n",
    "    Args:\n",
    "        input_folder (str): Path to the folder to search for JSON files\n",
    "        \n",
    "    Returns:\n",
    "        list: List of full paths to JSON files\n",
    "    \"\"\"\n",
    "    # Make sure the path is normalized\n",
    "    input_folder = os.path.normpath(input_folder)\n",
    "    \n",
    "    # Check if folder exists\n",
    "    if not os.path.exists(input_folder):\n",
    "        print(f\"Error: Folder '{input_folder}' does not exist\")\n",
    "        return []\n",
    "    \n",
    "    # Use glob to find all .json files\n",
    "    json_files = glob.glob(os.path.join(input_folder, \"*.json\"))\n",
    "    \n",
    "    print(f\"Found {len(json_files)} JSON files in '{input_folder}'\")\n",
    "    return json_files"
   ]
  },
  {
   "cell_type": "code",
   "execution_count": 198,
   "id": "bac03424",
   "metadata": {},
   "outputs": [],
   "source": [
    "def load_json_file(file_path):\n",
    "    \"\"\"\n",
    "    Loads a JSON file into a Python dictionary.\n",
    "    \n",
    "    Args:\n",
    "        file_path (str): Path to the JSON file\n",
    "        \n",
    "    Returns:\n",
    "        dict or list: The loaded JSON data\n",
    "        None: If there was an error loading the file\n",
    "    \"\"\"\n",
    "    try:\n",
    "        with open(file_path, 'r') as f:\n",
    "            data = json.load(f)\n",
    "        return data\n",
    "    except FileNotFoundError:\n",
    "        print(f\"Error: File '{file_path}' not found\")\n",
    "        return None\n",
    "    except json.JSONDecodeError as e:\n",
    "        print(f\"Error: Invalid JSON in '{file_path}': {e}\")\n",
    "        return None\n",
    "    except Exception as e:\n",
    "        print(f\"Error loading '{file_path}': {e}\")\n",
    "        return None"
   ]
  },
  {
   "cell_type": "code",
   "execution_count": 199,
   "id": "7fad4c6f",
   "metadata": {},
   "outputs": [],
   "source": [
    "\n",
    "def flatten_dict(d, parent_key='', sep='_'):\n",
    "    \"\"\"\n",
    "    Flatten a nested dictionary by joining keys with underscores.\n",
    "    \n",
    "    Args:\n",
    "        d (dict): Dictionary to flatten\n",
    "        parent_key (str): Parent key used in recursion (empty for the initial call)\n",
    "        sep (str): Separator character, defaults to underscore\n",
    "        \n",
    "    Returns:\n",
    "        dict: Flattened dictionary with underscore-separated keys\n",
    "    \"\"\"\n",
    "    items = []\n",
    "    \n",
    "    # Handle the case when d is not a dictionary\n",
    "    if not isinstance(d, dict):\n",
    "        return {parent_key: d} if parent_key else d\n",
    "    \n",
    "    for k, v in d.items():\n",
    "        new_key = f\"{parent_key}{sep}{k}\" if parent_key else k\n",
    "        \n",
    "        # If value is a dictionary, recursively flatten it\n",
    "        if isinstance(v, dict):\n",
    "            items.extend(flatten_dict(v, new_key, sep).items())\n",
    "        else:\n",
    "            # For non-dict values, just add the key-value pair\n",
    "            items.append((new_key, v))\n",
    "            \n",
    "    return dict(items)"
   ]
  },
  {
   "cell_type": "code",
   "execution_count": 200,
   "id": "8bb52280",
   "metadata": {},
   "outputs": [
    {
     "name": "stdout",
     "output_type": "stream",
     "text": [
      "Found 104 JSON files in 'ipl_json_2024_onwards'\n",
      "ipl_json_2024_onwards/1473469.json\n"
     ]
    }
   ],
   "source": [
    "# file_path = file_paths[-1]\n",
    "\n",
    "match_df_list = []\n",
    "\n",
    "file_paths = get_json_files(\"ipl_json_2024_onwards\")\n",
    "\n",
    "for file_path in file_paths:\n",
    "    match_details ={}\n",
    "    match_details['path_name'] = file_path.split(\"/\")[-1]\n",
    "    match = load_json_file(file_path)\n",
    "    match_info = match['info']\n",
    "    match_details['city'] = match_info['city']\n",
    "    match_details['date'] = match_info['dates'][0]\n",
    "    try:\n",
    "        match_details['winner'] = match_info['outcome']['winner']\n",
    "        match_details['winning_margin'] = match_info['outcome']['by']\n",
    "        try:\n",
    "            match_details['winning_margin_runs'] = match_info['outcome']['by']['runs']\n",
    "        except:\n",
    "            match_details['winning_margin_wickets'] = match_info['outcome']['by']['wickets']\n",
    "    except:\n",
    "        match_details['winner'] = match_info['outcome']['eliminator']\n",
    "        # match_details['winning_margin'] = None\n",
    "        # match_details['winning_margin_runs'] = None\n",
    "        print(file_path)\n",
    "    match_details['player_of_match'] = match_info['player_of_match'][0]\n",
    "    match_details['venue'] = match_info['venue']\n",
    "    match_details['team1'] = match_info['teams'][0]\n",
    "    match_details['team2'] = match_info['teams'][1]\n",
    "    match_details['toss_winner'] = match_info['toss']['winner']\n",
    "    match_details['toss_decision'] = match_info['toss']['decision']\n",
    "    match_df_list.append(match_details)"
   ]
  },
  {
   "cell_type": "code",
   "execution_count": 201,
   "id": "eaacfc46",
   "metadata": {},
   "outputs": [],
   "source": [
    "match_df = pd.DataFrame(match_df_list)\n",
    "match_df.head()\n",
    "match_df.to_csv(\"data_2025/match_info.csv\", index=False)\n",
    "match_df.to_parquet(\"data_2025/match_info.parquet\", index=False)"
   ]
  },
  {
   "cell_type": "code",
   "execution_count": 202,
   "id": "e5ea67c1",
   "metadata": {},
   "outputs": [
    {
     "name": "stdout",
     "output_type": "stream",
     "text": [
      "Found 33 JSON files in 'ipl_json_2025'\n"
     ]
    }
   ],
   "source": [
    "# file_path = file_paths[-1]\n",
    "\n",
    "ball_df_list = []\n",
    "\n",
    "file_paths = get_json_files(\"ipl_json_2025\")\n",
    "\n",
    "# file_path = file_paths[-1]\n",
    "for file_path in file_paths:\n",
    "    ball_details = {}\n",
    "    ball_details['path_name'] = file_path.split(\"/\")[-1]\n",
    "    match = load_json_file(file_path)\n",
    "\n",
    "    innings = match['innings']\n",
    "\n",
    "    for i in range(len(innings)):\n",
    "        inning = innings[i]\n",
    "\n",
    "        ball_details['team'] = inning['team']\n",
    "        ball_details['inning_sequence'] = i+1\n",
    "\n",
    "        overs = inning['overs']\n",
    "\n",
    "        for j in range(len(overs)):\n",
    "            over = overs[j]\n",
    "\n",
    "            ball_details['over'] = over['over']\n",
    "\n",
    "            k=0\n",
    "\n",
    "            for k in range(len(over['deliveries'])):\n",
    "                delivery = over['deliveries'][k]\n",
    "                ball_details['delivery'] = k+1\n",
    "\n",
    "                try:\n",
    "                    wicket_details = delivery.get('wickets', None)[0]\n",
    "                    ball_details['wicket'] = 1\n",
    "                    ball_details['player_out'] = wicket_details['player_out']\n",
    "                    ball_details['kind'] = wicket_details['kind']\n",
    "                    ball_details['wicket_fielders'] = wicket_details['fielders'][0]['name']\n",
    "                except:\n",
    "                    pass\n",
    "                try:\n",
    "                    review_details = delivery.pop('review', None)\n",
    "                except:\n",
    "                    pass\n",
    "                delivery_details = flatten_dict(delivery)\n",
    "\n",
    "                # if 'wickets' in delivery_details:\n",
    "                #     print('broken')\n",
    "                #     raise Exception(\"Wicket details are not handled correctly\")\n",
    "               \n",
    "                # delivery_details['']\n",
    "                ball_details.update(delivery_details)\n",
    "                ball_df_list.append(ball_details)\n",
    "                ball_details = {}\n",
    "# len(innings)"
   ]
  },
  {
   "cell_type": "code",
   "execution_count": 203,
   "id": "ce1827b2",
   "metadata": {},
   "outputs": [],
   "source": [
    "ball_df = pd.DataFrame(ball_df_list)\n",
    "fill_down_columns = ['path_name','team','inning_sequence','over']\n",
    "ball_df[fill_down_columns] = ball_df[fill_down_columns].ffill()\n",
    "ball_df.head()\n",
    "ball_df.to_csv(\"data_2025/ball_info.csv\", index=False)\n",
    "ball_df.to_parquet(\"data_2025/ball_info.parquet\", index=False)"
   ]
  },
  {
   "cell_type": "code",
   "execution_count": 160,
   "id": "59b9f3e8",
   "metadata": {},
   "outputs": [
    {
     "data": {
      "text/plain": [
       "{'batter': 'Shubman Gill',\n",
       " 'bowler': 'HH Pandya',\n",
       " 'non_striker': 'B Sai Sudharsan',\n",
       " 'runs': {'batter': 0, 'extras': 0, 'total': 0},\n",
       " 'wickets': [{'player_out': 'Shubman Gill',\n",
       "   'fielders': [{'name': 'Naman Dhir'}],\n",
       "   'kind': 'caught'}]}"
      ]
     },
     "execution_count": 160,
     "metadata": {},
     "output_type": "execute_result"
    }
   ],
   "source": [
    "file_path = \"ipl_json_2025/1473446.json\"\n",
    "match = load_json_file(file_path)\n",
    "innings = match['innings']\n",
    "inning = innings[0]\n",
    "over = inning['overs']\n",
    "over = over[8]\n",
    "delivery = over['deliveries'][2]\n",
    "# wicket_details = delivery.pop('wickets')\n",
    "delivery"
   ]
  },
  {
   "cell_type": "code",
   "execution_count": 129,
   "id": "70ff7c6c",
   "metadata": {},
   "outputs": [
    {
     "data": {
      "text/plain": [
       "'Mohammed Siraj'"
      ]
     },
     "execution_count": 129,
     "metadata": {},
     "output_type": "execute_result"
    }
   ],
   "source": [
    "wicket_details[0]['fielders'][0]['name']"
   ]
  },
  {
   "cell_type": "code",
   "execution_count": null,
   "id": "03ff9797",
   "metadata": {},
   "outputs": [],
   "source": []
  },
  {
   "cell_type": "code",
   "execution_count": 86,
   "id": "96d7a9aa",
   "metadata": {},
   "outputs": [
    {
     "data": {
      "text/plain": [
       "{'batter': 'J Fraser-McGurk',\n",
       " 'bowler': 'JC Archer',\n",
       " 'non_striker': 'Abishek Porel',\n",
       " 'runs': {'batter': 0, 'extras': 0, 'total': 0}}"
      ]
     },
     "execution_count": 86,
     "metadata": {},
     "output_type": "execute_result"
    }
   ],
   "source": [
    "over['deliveries'][0]"
   ]
  },
  {
   "cell_type": "code",
   "execution_count": 87,
   "id": "45fefe90",
   "metadata": {},
   "outputs": [
    {
     "data": {
      "text/plain": [
       "{'batter': 'J Fraser-McGurk',\n",
       " 'bowler': 'JC Archer',\n",
       " 'non_striker': 'Abishek Porel',\n",
       " 'runs_batter': 0,\n",
       " 'runs_extras': 0,\n",
       " 'runs_total': 0}"
      ]
     },
     "execution_count": 87,
     "metadata": {},
     "output_type": "execute_result"
    }
   ],
   "source": [
    "output_dict"
   ]
  },
  {
   "cell_type": "code",
   "execution_count": null,
   "id": "d8ab686c",
   "metadata": {},
   "outputs": [],
   "source": []
  }
 ],
 "metadata": {
  "kernelspec": {
   "display_name": "Python 3",
   "language": "python",
   "name": "python3"
  },
  "language_info": {
   "codemirror_mode": {
    "name": "ipython",
    "version": 3
   },
   "file_extension": ".py",
   "mimetype": "text/x-python",
   "name": "python",
   "nbconvert_exporter": "python",
   "pygments_lexer": "ipython3",
   "version": "3.13.2"
  }
 },
 "nbformat": 4,
 "nbformat_minor": 5
}
