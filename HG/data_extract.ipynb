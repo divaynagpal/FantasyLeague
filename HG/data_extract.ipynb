{
 "cells": [
  {
   "cell_type": "code",
   "execution_count": 1,
   "id": "71e1e740",
   "metadata": {},
   "outputs": [],
   "source": [
    "import os\n",
    "import json\n",
    "import glob"
   ]
  },
  {
   "cell_type": "code",
   "execution_count": 2,
   "id": "93069617",
   "metadata": {},
   "outputs": [],
   "source": [
    "def get_json_files(input_folder):\n",
    "    \"\"\"\n",
    "    Returns a list of paths to all JSON files in the specified folder.\n",
    "    \n",
    "    Args:\n",
    "        input_folder (str): Path to the folder to search for JSON files\n",
    "        \n",
    "    Returns:\n",
    "        list: List of full paths to JSON files\n",
    "    \"\"\"\n",
    "    # Make sure the path is normalized\n",
    "    input_folder = os.path.normpath(input_folder)\n",
    "    \n",
    "    # Check if folder exists\n",
    "    if not os.path.exists(input_folder):\n",
    "        print(f\"Error: Folder '{input_folder}' does not exist\")\n",
    "        return []\n",
    "    \n",
    "    # Use glob to find all .json files\n",
    "    json_files = glob.glob(os.path.join(input_folder, \"*.json\"))\n",
    "    \n",
    "    print(f\"Found {len(json_files)} JSON files in '{input_folder}'\")\n",
    "    return json_files"
   ]
  },
  {
   "cell_type": "code",
   "execution_count": 3,
   "id": "bac03424",
   "metadata": {},
   "outputs": [],
   "source": [
    "def load_json_file(file_path):\n",
    "    \"\"\"\n",
    "    Loads a JSON file into a Python dictionary.\n",
    "    \n",
    "    Args:\n",
    "        file_path (str): Path to the JSON file\n",
    "        \n",
    "    Returns:\n",
    "        dict or list: The loaded JSON data\n",
    "        None: If there was an error loading the file\n",
    "    \"\"\"\n",
    "    try:\n",
    "        with open(file_path, 'r') as f:\n",
    "            data = json.load(f)\n",
    "        return data\n",
    "    except FileNotFoundError:\n",
    "        print(f\"Error: File '{file_path}' not found\")\n",
    "        return None\n",
    "    except json.JSONDecodeError as e:\n",
    "        print(f\"Error: Invalid JSON in '{file_path}': {e}\")\n",
    "        return None\n",
    "    except Exception as e:\n",
    "        print(f\"Error loading '{file_path}': {e}\")\n",
    "        return None"
   ]
  },
  {
   "cell_type": "code",
   "execution_count": 4,
   "id": "ecb08ea3",
   "metadata": {},
   "outputs": [
    {
     "name": "stdout",
     "output_type": "stream",
     "text": [
      "Found 14 JSON files in 'ipl_json abridged'\n"
     ]
    }
   ],
   "source": [
    "file_paths = get_json_files(\"ipl_json abridged\")"
   ]
  },
  {
   "cell_type": "code",
   "execution_count": 5,
   "id": "8bb52280",
   "metadata": {},
   "outputs": [],
   "source": [
    "match = load_json_file(file_paths[0])"
   ]
  },
  {
   "cell_type": "code",
   "execution_count": 35,
   "id": "af4ee156",
   "metadata": {},
   "outputs": [
    {
     "data": {
      "text/plain": [
       "{'batter': 0, 'extras': 1, 'total': 1}"
      ]
     },
     "execution_count": 35,
     "metadata": {},
     "output_type": "execute_result"
    }
   ],
   "source": [
    "match['innings'][0].keys()\n",
    "# match['innings'][0]['team']\n",
    "match['innings'][0]['overs'][0].keys()\n",
    "match['innings'][0]['overs'][0]['deliveries']\n",
    "match['innings'][0]['overs'][0]['deliveries'][0].keys()\n",
    "match['innings'][0]['overs'][0]['deliveries'][0]['runs']"
   ]
  },
  {
   "cell_type": "code",
   "execution_count": null,
   "id": "e5ea67c1",
   "metadata": {},
   "outputs": [],
   "source": []
  }
 ],
 "metadata": {
  "kernelspec": {
   "display_name": "Python 3",
   "language": "python",
   "name": "python3"
  },
  "language_info": {
   "codemirror_mode": {
    "name": "ipython",
    "version": 3
   },
   "file_extension": ".py",
   "mimetype": "text/x-python",
   "name": "python",
   "nbconvert_exporter": "python",
   "pygments_lexer": "ipython3",
   "version": "3.13.2"
  }
 },
 "nbformat": 4,
 "nbformat_minor": 5
}
